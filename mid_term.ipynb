{
 "cells": [
  {
   "cell_type": "code",
   "execution_count": 55,
   "metadata": {},
   "outputs": [],
   "source": [
    "import pandas as pd\n",
    "import numpy as np\n",
    "import matplotlib.pyplot as plt\n",
    "import seaborn as sns"
   ]
  },
  {
   "attachments": {},
   "cell_type": "markdown",
   "metadata": {},
   "source": [
    "Data cleaning"
   ]
  },
  {
   "cell_type": "code",
   "execution_count": 56,
   "metadata": {},
   "outputs": [],
   "source": [
    "sale = pd.read_csv('https://raw.githubusercontent.com/ZorroHZR/schulich_datascience/main/midterm_data.csv')"
   ]
  },
  {
   "attachments": {},
   "cell_type": "markdown",
   "metadata": {},
   "source": [
    "Data cleaning e-commerce company is a data table of an e-commerce company selling beauty and fashion products. We will using data to analyze why the customer didn't pay their cart and provide the company's sale strategy about the production and marketing."
   ]
  },
  {
   "cell_type": "code",
   "execution_count": 57,
   "metadata": {},
   "outputs": [
    {
     "name": "stdout",
     "output_type": "stream",
     "text": [
      "<class 'pandas.core.frame.DataFrame'>\n",
      "RangeIndex: 5000 entries, 0 to 4999\n",
      "Data columns (total 10 columns):\n",
      " #   Column           Non-Null Count  Dtype  \n",
      "---  ------           --------------  -----  \n",
      " 0   userID           5000 non-null   int64  \n",
      " 1   age              5000 non-null   int64  \n",
      " 2   sessions         5000 non-null   int64  \n",
      " 3   time_spent       5000 non-null   float64\n",
      " 4   pages_visited    5000 non-null   int64  \n",
      " 5   cart_items       5000 non-null   int64  \n",
      " 6   cart_value       5000 non-null   float64\n",
      " 7   checkout_status  5000 non-null   int64  \n",
      " 8   device           4900 non-null   object \n",
      " 9   location         4970 non-null   object \n",
      "dtypes: float64(2), int64(6), object(2)\n",
      "memory usage: 390.8+ KB\n"
     ]
    }
   ],
   "source": [
    "sale.info()\n",
    "#find the dtype and missing value"
   ]
  },
  {
   "attachments": {},
   "cell_type": "markdown",
   "metadata": {},
   "source": [
    "A brief description of the variable included in the dataframe:\n",
    "\n",
    "'userID': unique user identifier\n",
    "\n",
    "'age': age\n",
    "\n",
    "'sessions': session identifier for each user\n",
    "\n",
    "'time_spent': minutes spent browsing the website\n",
    "\n",
    "'pages_visited': count of pages visited on the website\n",
    "\n",
    "'cart_items': number of items in the user's cart\n",
    "\n",
    "'cart_value': total $ value of the cart\n",
    "\n",
    "'checkout_status': 1 or 0 indicating wether the user checked out or not (1=Yes, 0=No)\n",
    "\n",
    "'device': the type of device the user is using (Desktop, Mobile or Tablet)\n",
    "\n",
    "'location': the user's location"
   ]
  },
  {
   "cell_type": "code",
   "execution_count": 58,
   "metadata": {},
   "outputs": [
    {
     "name": "stdout",
     "output_type": "stream",
     "text": [
      "(5000, 10)\n",
      "Index(['userID', 'age', 'sessions', 'time_spent', 'pages_visited',\n",
      "       'cart_items', 'cart_value', 'checkout_status', 'device', 'location'],\n",
      "      dtype='object')\n"
     ]
    }
   ],
   "source": [
    "print(sale.shape)\n",
    "print(sale.columns)"
   ]
  },
  {
   "attachments": {},
   "cell_type": "markdown",
   "metadata": {},
   "source": [
    "Find out the missing value"
   ]
  },
  {
   "cell_type": "code",
   "execution_count": 59,
   "metadata": {},
   "outputs": [
    {
     "name": "stdout",
     "output_type": "stream",
     "text": [
      "userID               0\n",
      "age                  0\n",
      "sessions             0\n",
      "time_spent           0\n",
      "pages_visited        0\n",
      "cart_items           0\n",
      "cart_value           0\n",
      "checkout_status      0\n",
      "device             100\n",
      "location            30\n",
      "dtype: int64\n"
     ]
    }
   ],
   "source": [
    "print(sale.isna().sum())"
   ]
  },
  {
   "cell_type": "code",
   "execution_count": 60,
   "metadata": {},
   "outputs": [
    {
     "name": "stdout",
     "output_type": "stream",
     "text": [
      "['Desktop' 'Tablet' 'Mobile' nan]\n",
      "['Location 1' 'Location 3' 'Location 4' 'Location 2' 'Location 5' nan]\n"
     ]
    }
   ],
   "source": [
    "unique_devices = sale['device'].unique()\n",
    "print(unique_devices)\n",
    "unique_location = sale['location'].unique()\n",
    "print(unique_location)"
   ]
  },
  {
   "attachments": {},
   "cell_type": "markdown",
   "metadata": {},
   "source": [
    "Based on this we can know that there are some of them missing value exits in this table which are device column and location column, so I might use most comment way to solve it. "
   ]
  },
  {
   "attachments": {},
   "cell_type": "markdown",
   "metadata": {},
   "source": [
    "Data Cleaning ( Drop all missing value )"
   ]
  },
  {
   "cell_type": "code",
   "execution_count": 61,
   "metadata": {},
   "outputs": [
    {
     "data": {
      "text/html": [
       "<div>\n",
       "<style scoped>\n",
       "    .dataframe tbody tr th:only-of-type {\n",
       "        vertical-align: middle;\n",
       "    }\n",
       "\n",
       "    .dataframe tbody tr th {\n",
       "        vertical-align: top;\n",
       "    }\n",
       "\n",
       "    .dataframe thead th {\n",
       "        text-align: right;\n",
       "    }\n",
       "</style>\n",
       "<table border=\"1\" class=\"dataframe\">\n",
       "  <thead>\n",
       "    <tr style=\"text-align: right;\">\n",
       "      <th></th>\n",
       "      <th>userID</th>\n",
       "      <th>age</th>\n",
       "      <th>sessions</th>\n",
       "      <th>time_spent</th>\n",
       "      <th>pages_visited</th>\n",
       "      <th>cart_items</th>\n",
       "      <th>cart_value</th>\n",
       "      <th>checkout_status</th>\n",
       "      <th>device</th>\n",
       "      <th>location</th>\n",
       "    </tr>\n",
       "  </thead>\n",
       "  <tbody>\n",
       "    <tr>\n",
       "      <th>0</th>\n",
       "      <td>1</td>\n",
       "      <td>62</td>\n",
       "      <td>3</td>\n",
       "      <td>13.295129</td>\n",
       "      <td>2</td>\n",
       "      <td>20</td>\n",
       "      <td>199.21</td>\n",
       "      <td>0</td>\n",
       "      <td>Desktop</td>\n",
       "      <td>Location 1</td>\n",
       "    </tr>\n",
       "    <tr>\n",
       "      <th>1</th>\n",
       "      <td>2</td>\n",
       "      <td>65</td>\n",
       "      <td>2</td>\n",
       "      <td>21.686405</td>\n",
       "      <td>3</td>\n",
       "      <td>21</td>\n",
       "      <td>294.82</td>\n",
       "      <td>0</td>\n",
       "      <td>Desktop</td>\n",
       "      <td>Location 3</td>\n",
       "    </tr>\n",
       "    <tr>\n",
       "      <th>2</th>\n",
       "      <td>3</td>\n",
       "      <td>18</td>\n",
       "      <td>7</td>\n",
       "      <td>17.135220</td>\n",
       "      <td>4</td>\n",
       "      <td>23</td>\n",
       "      <td>240.87</td>\n",
       "      <td>0</td>\n",
       "      <td>Desktop</td>\n",
       "      <td>Location 4</td>\n",
       "    </tr>\n",
       "    <tr>\n",
       "      <th>3</th>\n",
       "      <td>4</td>\n",
       "      <td>21</td>\n",
       "      <td>9</td>\n",
       "      <td>29.589311</td>\n",
       "      <td>8</td>\n",
       "      <td>16</td>\n",
       "      <td>183.78</td>\n",
       "      <td>1</td>\n",
       "      <td>Desktop</td>\n",
       "      <td>Location 2</td>\n",
       "    </tr>\n",
       "    <tr>\n",
       "      <th>4</th>\n",
       "      <td>5</td>\n",
       "      <td>21</td>\n",
       "      <td>3</td>\n",
       "      <td>25.948584</td>\n",
       "      <td>4</td>\n",
       "      <td>10</td>\n",
       "      <td>59.51</td>\n",
       "      <td>1</td>\n",
       "      <td>Tablet</td>\n",
       "      <td>Location 4</td>\n",
       "    </tr>\n",
       "    <tr>\n",
       "      <th>...</th>\n",
       "      <td>...</td>\n",
       "      <td>...</td>\n",
       "      <td>...</td>\n",
       "      <td>...</td>\n",
       "      <td>...</td>\n",
       "      <td>...</td>\n",
       "      <td>...</td>\n",
       "      <td>...</td>\n",
       "      <td>...</td>\n",
       "      <td>...</td>\n",
       "    </tr>\n",
       "    <tr>\n",
       "      <th>4995</th>\n",
       "      <td>4996</td>\n",
       "      <td>48</td>\n",
       "      <td>8</td>\n",
       "      <td>45.000000</td>\n",
       "      <td>11</td>\n",
       "      <td>25</td>\n",
       "      <td>278.92</td>\n",
       "      <td>0</td>\n",
       "      <td>Tablet</td>\n",
       "      <td>Location 5</td>\n",
       "    </tr>\n",
       "    <tr>\n",
       "      <th>4996</th>\n",
       "      <td>4997</td>\n",
       "      <td>31</td>\n",
       "      <td>4</td>\n",
       "      <td>44.700747</td>\n",
       "      <td>9</td>\n",
       "      <td>12</td>\n",
       "      <td>78.97</td>\n",
       "      <td>0</td>\n",
       "      <td>Tablet</td>\n",
       "      <td>Location 2</td>\n",
       "    </tr>\n",
       "    <tr>\n",
       "      <th>4997</th>\n",
       "      <td>4998</td>\n",
       "      <td>34</td>\n",
       "      <td>5</td>\n",
       "      <td>27.146624</td>\n",
       "      <td>7</td>\n",
       "      <td>19</td>\n",
       "      <td>139.42</td>\n",
       "      <td>1</td>\n",
       "      <td>Desktop</td>\n",
       "      <td>Location 4</td>\n",
       "    </tr>\n",
       "    <tr>\n",
       "      <th>4998</th>\n",
       "      <td>4999</td>\n",
       "      <td>58</td>\n",
       "      <td>1</td>\n",
       "      <td>45.000000</td>\n",
       "      <td>11</td>\n",
       "      <td>24</td>\n",
       "      <td>203.42</td>\n",
       "      <td>0</td>\n",
       "      <td>Desktop</td>\n",
       "      <td>Location 5</td>\n",
       "    </tr>\n",
       "    <tr>\n",
       "      <th>4999</th>\n",
       "      <td>5000</td>\n",
       "      <td>63</td>\n",
       "      <td>2</td>\n",
       "      <td>28.484907</td>\n",
       "      <td>7</td>\n",
       "      <td>10</td>\n",
       "      <td>84.15</td>\n",
       "      <td>1</td>\n",
       "      <td>Tablet</td>\n",
       "      <td>Location 3</td>\n",
       "    </tr>\n",
       "  </tbody>\n",
       "</table>\n",
       "<p>4871 rows × 10 columns</p>\n",
       "</div>"
      ],
      "text/plain": [
       "      userID  age  sessions  time_spent  pages_visited  cart_items   \n",
       "0          1   62         3   13.295129              2          20  \\\n",
       "1          2   65         2   21.686405              3          21   \n",
       "2          3   18         7   17.135220              4          23   \n",
       "3          4   21         9   29.589311              8          16   \n",
       "4          5   21         3   25.948584              4          10   \n",
       "...      ...  ...       ...         ...            ...         ...   \n",
       "4995    4996   48         8   45.000000             11          25   \n",
       "4996    4997   31         4   44.700747              9          12   \n",
       "4997    4998   34         5   27.146624              7          19   \n",
       "4998    4999   58         1   45.000000             11          24   \n",
       "4999    5000   63         2   28.484907              7          10   \n",
       "\n",
       "      cart_value  checkout_status   device    location  \n",
       "0         199.21                0  Desktop  Location 1  \n",
       "1         294.82                0  Desktop  Location 3  \n",
       "2         240.87                0  Desktop  Location 4  \n",
       "3         183.78                1  Desktop  Location 2  \n",
       "4          59.51                1   Tablet  Location 4  \n",
       "...          ...              ...      ...         ...  \n",
       "4995      278.92                0   Tablet  Location 5  \n",
       "4996       78.97                0   Tablet  Location 2  \n",
       "4997      139.42                1  Desktop  Location 4  \n",
       "4998      203.42                0  Desktop  Location 5  \n",
       "4999       84.15                1   Tablet  Location 3  \n",
       "\n",
       "[4871 rows x 10 columns]"
      ]
     },
     "execution_count": 61,
     "metadata": {},
     "output_type": "execute_result"
    }
   ],
   "source": [
    "sale_cleaned = sale.dropna()\n",
    "sale_cleaned"
   ]
  },
  {
   "cell_type": "code",
   "execution_count": 62,
   "metadata": {},
   "outputs": [
    {
     "name": "stdout",
     "output_type": "stream",
     "text": [
      "(4871, 10)\n"
     ]
    }
   ],
   "source": [
    "print(sale_cleaned.shape)"
   ]
  },
  {
   "attachments": {},
   "cell_type": "markdown",
   "metadata": {},
   "source": [
    "Based on the small number of missing conditions, the most common method we can use is to drop all the missing values, but this will affect the accuracy of our data, so I will take the use of mode to fill the location and device, this way to achieve data accuracy at the same time. So we decide to imputation the missing value."
   ]
  },
  {
   "attachments": {},
   "cell_type": "markdown",
   "metadata": {},
   "source": [
    "Data Cleaning (Imputation Missing Value)"
   ]
  },
  {
   "attachments": {},
   "cell_type": "markdown",
   "metadata": {},
   "source": [
    "According to missing value of data about \"location\" and device. Choose the appropriate imputaion method according to the type of variabel for different columns and the distribution of data.\n",
    "\n",
    "Discrete Categorical Varibel As we know “location“ and ”device“ are Discrete categorical variable, So the best way to imputated these two varibel is use mode. Mode is the value that occurs most frequently in the data and represents the typical characteristics of the data. By using Mode padding, the characteristics of most of the observed values can be preserved. At the same time, this does not introduce new values or change the distribution of the original data."
   ]
  },
  {
   "cell_type": "code",
   "execution_count": 63,
   "metadata": {},
   "outputs": [],
   "source": [
    "modes = sale[['location', 'device']].mode().iloc[0]"
   ]
  },
  {
   "cell_type": "code",
   "execution_count": 64,
   "metadata": {},
   "outputs": [],
   "source": [
    "sale.loc[sale['location'].isna(), 'location'] = modes['location']\n",
    "sale.loc[sale['device'].isna(), 'device'] = modes['device']"
   ]
  },
  {
   "cell_type": "code",
   "execution_count": 65,
   "metadata": {},
   "outputs": [
    {
     "data": {
      "text/html": [
       "<div>\n",
       "<style scoped>\n",
       "    .dataframe tbody tr th:only-of-type {\n",
       "        vertical-align: middle;\n",
       "    }\n",
       "\n",
       "    .dataframe tbody tr th {\n",
       "        vertical-align: top;\n",
       "    }\n",
       "\n",
       "    .dataframe thead th {\n",
       "        text-align: right;\n",
       "    }\n",
       "</style>\n",
       "<table border=\"1\" class=\"dataframe\">\n",
       "  <thead>\n",
       "    <tr style=\"text-align: right;\">\n",
       "      <th></th>\n",
       "      <th>userID</th>\n",
       "      <th>age</th>\n",
       "      <th>sessions</th>\n",
       "      <th>time_spent</th>\n",
       "      <th>pages_visited</th>\n",
       "      <th>cart_items</th>\n",
       "      <th>cart_value</th>\n",
       "      <th>checkout_status</th>\n",
       "      <th>device</th>\n",
       "      <th>location</th>\n",
       "    </tr>\n",
       "  </thead>\n",
       "  <tbody>\n",
       "    <tr>\n",
       "      <th>0</th>\n",
       "      <td>1</td>\n",
       "      <td>62</td>\n",
       "      <td>3</td>\n",
       "      <td>13.295129</td>\n",
       "      <td>2</td>\n",
       "      <td>20</td>\n",
       "      <td>199.21</td>\n",
       "      <td>0</td>\n",
       "      <td>Desktop</td>\n",
       "      <td>Location 1</td>\n",
       "    </tr>\n",
       "    <tr>\n",
       "      <th>1</th>\n",
       "      <td>2</td>\n",
       "      <td>65</td>\n",
       "      <td>2</td>\n",
       "      <td>21.686405</td>\n",
       "      <td>3</td>\n",
       "      <td>21</td>\n",
       "      <td>294.82</td>\n",
       "      <td>0</td>\n",
       "      <td>Desktop</td>\n",
       "      <td>Location 3</td>\n",
       "    </tr>\n",
       "    <tr>\n",
       "      <th>2</th>\n",
       "      <td>3</td>\n",
       "      <td>18</td>\n",
       "      <td>7</td>\n",
       "      <td>17.135220</td>\n",
       "      <td>4</td>\n",
       "      <td>23</td>\n",
       "      <td>240.87</td>\n",
       "      <td>0</td>\n",
       "      <td>Desktop</td>\n",
       "      <td>Location 4</td>\n",
       "    </tr>\n",
       "    <tr>\n",
       "      <th>3</th>\n",
       "      <td>4</td>\n",
       "      <td>21</td>\n",
       "      <td>9</td>\n",
       "      <td>29.589311</td>\n",
       "      <td>8</td>\n",
       "      <td>16</td>\n",
       "      <td>183.78</td>\n",
       "      <td>1</td>\n",
       "      <td>Desktop</td>\n",
       "      <td>Location 2</td>\n",
       "    </tr>\n",
       "    <tr>\n",
       "      <th>4</th>\n",
       "      <td>5</td>\n",
       "      <td>21</td>\n",
       "      <td>3</td>\n",
       "      <td>25.948584</td>\n",
       "      <td>4</td>\n",
       "      <td>10</td>\n",
       "      <td>59.51</td>\n",
       "      <td>1</td>\n",
       "      <td>Tablet</td>\n",
       "      <td>Location 4</td>\n",
       "    </tr>\n",
       "  </tbody>\n",
       "</table>\n",
       "</div>"
      ],
      "text/plain": [
       "   userID  age  sessions  time_spent  pages_visited  cart_items  cart_value   \n",
       "0       1   62         3   13.295129              2          20      199.21  \\\n",
       "1       2   65         2   21.686405              3          21      294.82   \n",
       "2       3   18         7   17.135220              4          23      240.87   \n",
       "3       4   21         9   29.589311              8          16      183.78   \n",
       "4       5   21         3   25.948584              4          10       59.51   \n",
       "\n",
       "   checkout_status   device    location  \n",
       "0                0  Desktop  Location 1  \n",
       "1                0  Desktop  Location 3  \n",
       "2                0  Desktop  Location 4  \n",
       "3                1  Desktop  Location 2  \n",
       "4                1   Tablet  Location 4  "
      ]
     },
     "execution_count": 65,
     "metadata": {},
     "output_type": "execute_result"
    }
   ],
   "source": [
    "sale.head()"
   ]
  },
  {
   "cell_type": "code",
   "execution_count": 66,
   "metadata": {},
   "outputs": [
    {
     "name": "stdout",
     "output_type": "stream",
     "text": [
      "userID             0\n",
      "age                0\n",
      "sessions           0\n",
      "time_spent         0\n",
      "pages_visited      0\n",
      "cart_items         0\n",
      "cart_value         0\n",
      "checkout_status    0\n",
      "device             0\n",
      "location           0\n",
      "dtype: int64\n"
     ]
    }
   ],
   "source": [
    "print(sale.isna().sum())"
   ]
  },
  {
   "attachments": {},
   "cell_type": "markdown",
   "metadata": {},
   "source": [
    "Eventually we filled in the missing value, which helped us uncover some potential data and the subsequent impact. So we kept all the data as much as possible."
   ]
  },
  {
   "attachments": {},
   "cell_type": "markdown",
   "metadata": {},
   "source": [
    "Exploratory Analysis: Analyze the check out status"
   ]
  },
  {
   "cell_type": "code",
   "execution_count": 67,
   "metadata": {},
   "outputs": [],
   "source": [
    "grouped_sale = sale.groupby('checkout_status')"
   ]
  },
  {
   "cell_type": "code",
   "execution_count": 68,
   "metadata": {},
   "outputs": [],
   "source": [
    "numeric_columns = ['age', 'sessions', 'time_spent', 'pages_visited', 'cart_items', 'cart_value']"
   ]
  },
  {
   "cell_type": "code",
   "execution_count": 69,
   "metadata": {},
   "outputs": [
    {
     "name": "stdout",
     "output_type": "stream",
     "text": [
      "                       age  sessions  time_spent  pages_visited  cart_items   \n",
      "checkout_status                                                               \n",
      "0                41.617647  5.058824   22.852522       5.207806   15.283123  \\\n",
      "1                41.325991  4.942731   31.317918       7.287812   14.120411   \n",
      "\n",
      "                 cart_value  \n",
      "checkout_status              \n",
      "0                152.669915  \n",
      "1                140.824214  \n"
     ]
    }
   ],
   "source": [
    "mean_values = grouped_sale[numeric_columns].mean()\n",
    "print(mean_values)"
   ]
  },
  {
   "attachments": {},
   "cell_type": "markdown",
   "metadata": {},
   "source": [
    "Based on the data shows, we can conclude the following:\n",
    "\n",
    "Age (age): The difference in average age between users who completed the checkout (checkout_status=1) and those who did not complete the checkout (checkout_status=0) is not significant. This means that the effect of user age on the success of checkout may not be significant.\n",
    "\n",
    "Sessions: There is also little difference in the average number of sessions between users who completed checkout and those who did not complete checkout. This may indicate that the number of sessions has a limited impact on the success of the checkout.\n",
    "\n",
    "Time spent (time_spent): The average time spent on the site was significantly higher for users who completed the checkout (31.32 minutes) than for those who did not complete the checkout (22.85 minutes). This may indicate that the more time a user spends on the site, the more likely it is that the checkout will be successful.\n",
    "\n",
    "Pages_visited: The average number of pages visited by users who completed the checkout (7.29 pages) was significantly higher than those who did not complete the checkout (5.21 pages). This indicates that users who visit more pages are more likely to checkout successfully.\n",
    "\n",
    "Cart_items: The average number of cart items was slightly higher for users who did not complete checkout (15.28) than for those who completed checkout (14.12). This may mean that users with more items in their cart are more likely to abandon the checkout process.\n",
    "\n",
    "Cart_value: The average cart value was higher for users who did not complete checkout (152.67) than for those who completed checkout (140.82). This suggests that users with a higher cart value may be more likely to abandon the checkout.\n"
   ]
  },
  {
   "attachments": {},
   "cell_type": "markdown",
   "metadata": {},
   "source": [
    "Conclusion : behaviour or characteristics of users who complete check out vs those who do not"
   ]
  },
  {
   "attachments": {},
   "cell_type": "markdown",
   "metadata": {},
   "source": [
    "Based on this part, we can make conclusion about checkout_status on the amount of time a user spends on the site and the number of pages they visit may have a positive impact on checkout success. When users spend more time on the site and visit more pages, they are more likely to complete the checkout. This may mean that the user experience and quality of content on the site is critical to driving users to complete their purchases.\n",
    "The number of items in the cart and the value of the cart may have a negative impact on checkout success. When the number of items in the cart is high and the cart value is high, users may be more likely to abandon the checkout. This may indicate the impact of price sensitivity and cart management on users' purchasing decisions."
   ]
  },
  {
   "cell_type": "code",
   "execution_count": 73,
   "metadata": {},
   "outputs": [
    {
     "data": {
      "image/png": "[encoded data removed]",
      "text/plain": [
       "<Figure size 640x480 with 1 Axes>"
      ]
     },
     "metadata": {},
     "output_type": "display_data"
    }
   ],
   "source": [
    "sns.boxplot(y=sale_cleaned['age'])\n",
    "plt.show()"
   ]
  },
  {
   "attachments": {},
   "cell_type": "markdown",
   "metadata": {},
   "source": [
    "Based on this boxplot chart we can know the age (mean, median, IQR ) and upper whisker and lower whisker. There is no outlier in this chart"
   ]
  },
  {
   "attachments": {},
   "cell_type": "markdown",
   "metadata": {},
   "source": [
    "Statistical Testing and A/B testing"
   ]
  },
  {
   "attachments": {},
   "cell_type": "markdown",
   "metadata": {},
   "source": [
    "Make sure the user are same similar in behavior"
   ]
  },
  {
   "attachments": {},
   "cell_type": "markdown",
   "metadata": {},
   "source": [
    "We will compare them in different situation, such as location, device, to help us to support our analysis. We need to find out that the user do not have significant difference between time spent, and cart_value."
   ]
  },
  {
   "cell_type": "code",
   "execution_count": 77,
   "metadata": {},
   "outputs": [
    {
     "data": {
      "text/html": [
       "<div>\n",
       "<style scoped>\n",
       "    .dataframe tbody tr th:only-of-type {\n",
       "        vertical-align: middle;\n",
       "    }\n",
       "\n",
       "    .dataframe tbody tr th {\n",
       "        vertical-align: top;\n",
       "    }\n",
       "\n",
       "    .dataframe thead th {\n",
       "        text-align: right;\n",
       "    }\n",
       "</style>\n",
       "<table border=\"1\" class=\"dataframe\">\n",
       "  <thead>\n",
       "    <tr style=\"text-align: right;\">\n",
       "      <th></th>\n",
       "      <th>age</th>\n",
       "      <th>sessions</th>\n",
       "      <th>time_spent</th>\n",
       "      <th>pages_visited</th>\n",
       "      <th>cart_items</th>\n",
       "      <th>cart_value</th>\n",
       "    </tr>\n",
       "    <tr>\n",
       "      <th>checkout_status</th>\n",
       "      <th></th>\n",
       "      <th></th>\n",
       "      <th></th>\n",
       "      <th></th>\n",
       "      <th></th>\n",
       "      <th></th>\n",
       "    </tr>\n",
       "  </thead>\n",
       "  <tbody>\n",
       "    <tr>\n",
       "      <th>0</th>\n",
       "      <td>41.617647</td>\n",
       "      <td>5.058824</td>\n",
       "      <td>22.852522</td>\n",
       "      <td>5.207806</td>\n",
       "      <td>15.283123</td>\n",
       "      <td>152.669915</td>\n",
       "    </tr>\n",
       "    <tr>\n",
       "      <th>1</th>\n",
       "      <td>41.325991</td>\n",
       "      <td>4.942731</td>\n",
       "      <td>31.317918</td>\n",
       "      <td>7.287812</td>\n",
       "      <td>14.120411</td>\n",
       "      <td>140.824214</td>\n",
       "    </tr>\n",
       "  </tbody>\n",
       "</table>\n",
       "</div>"
      ],
      "text/plain": [
       "                       age  sessions  time_spent  pages_visited  cart_items   \n",
       "checkout_status                                                               \n",
       "0                41.617647  5.058824   22.852522       5.207806   15.283123  \\\n",
       "1                41.325991  4.942731   31.317918       7.287812   14.120411   \n",
       "\n",
       "                 cart_value  \n",
       "checkout_status              \n",
       "0                152.669915  \n",
       "1                140.824214  "
      ]
     },
     "execution_count": 77,
     "metadata": {},
     "output_type": "execute_result"
    }
   ],
   "source": [
    "#First we gonna check the location\n",
    "#check if there is correlation or not.\n",
    "grouped_data = sale.groupby('checkout_status')[['age', 'sessions', 'time_spent', 'pages_visited', 'cart_items', 'cart_value']].mean()\n",
    "grouped_data"
   ]
  },
  {
   "attachments": {},
   "cell_type": "markdown",
   "metadata": {},
   "source": [
    "Recommandation strategy:\n",
    "we can derive the following observations regarding completed (checkout_status=1) and incomplete (checkout_status=0) checkout customers:\n",
    "\n",
    "1. Age (Age): The age distribution is similar for both groups of customers, so age does not seem to have a significant impact on the checkout success rate.\n",
    "\n",
    "2. Number of sessions (Sessions): The average number of sessions for customers who have completed checkout is slightly lower than that for customers who have not completed checkout. This implies that increasing user interaction and engagement on the site may help improve checkout success rates.\n",
    "\n",
    "3. time_spent: Customers who completed checkout spent significantly more time on the site than those who did not complete checkout. This suggests that more time spent on the site by users may improve checkout success.\n",
    "\n",
    "4. Pages_visited: Customers who completed checkout visited significantly more pages than those who did not complete checkout. This means that increasing the number of pages a user views on the site may help improve the checkout success rate.\n",
    "\n",
    "5. Cart_items: Customers who completed checkout had slightly fewer items in their shopping cart than customers who did not complete checkout. This may indicate that customers with a higher number of items in their shopping cart may be hesitant to checkout.\n",
    "\n",
    "6. Cart_value: Customers who have completed checkout have a lower cart value. This may mean that customers with a higher cart value may be hesitant during the checkout process.\n",
    "\n",
    "Based on the above observations, the following are some suggestions to increase customer spending and improve checkout success:\n",
    "\n",
    "1. Increase user interaction and engagement on the site: Encourage users to spend more time on the site and engage in more sessions by improving the site design, providing more interesting and relevant content, and offering personalized recommendations.\n",
    "\n",
    "2. Optimize the shopping cart and checkout process: Streamline the shopping cart and checkout process by reducing page bounces and unnecessary steps to increase the success rate of checkout.\n",
    "\n",
    "3. Encourage users to view more pages: Encourage users to view more pages on the site by providing navigation suggestions, relevant product recommendations and premium content.\n",
    "\n",
    "4. Promotions and offers: Implement promotions and offers that target high shopping cart value customers to reduce hesitation during the checkout process. For example, offers such as full discount offers and free shipping can be offered.\n",
    "\n",
    "5. Shopping cart project management: For customers with a large number of items in their shopping carts, you can help them better manage their shopping cart items by providing item comparison functions, displaying inventory status, and setting upper limits for shopping cart items.\n",
    "\n",
    "6. Data analysis and user feedback: By collecting and analyzing user data, we regularly evaluate the effectiveness of the above strategies, and also encourage users to provide feedback in order to continuously optimize the website experience and improve the checkout success rate."
   ]
  }
 ],
 "metadata": {
  "kernelspec": {
   "display_name": "Python 3",
   "language": "python",
   "name": "python3"
  },
  "language_info": {
   "codemirror_mode": {
    "name": "ipython",
    "version": 3
   },
   "file_extension": ".py",
   "mimetype": "text/x-python",
   "name": "python",
   "nbconvert_exporter": "python",
   "pygments_lexer": "ipython3",
   "version": "3.9.6"
  },
  "orig_nbformat": 4
 },
 "nbformat": 4,
 "nbformat_minor": 2
}
