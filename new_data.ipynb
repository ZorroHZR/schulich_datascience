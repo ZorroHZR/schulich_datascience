{
 "cells": [
  {
   "cell_type": "code",
   "execution_count": 14,
   "metadata": {},
   "outputs": [],
   "source": [
    "import numpy as np\n",
    "import pandas as pd\n",
    "from scipy import stats\n",
    "import seaborn as sns\n"
   ]
  },
  {
   "cell_type": "code",
   "execution_count": 15,
   "metadata": {},
   "outputs": [],
   "source": [
    "df  = pd.read_csv('/Users/a1/Downloads/new_data.csv')"
   ]
  },
  {
   "cell_type": "code",
   "execution_count": 16,
   "metadata": {},
   "outputs": [
    {
     "name": "stdout",
     "output_type": "stream",
     "text": [
      "<class 'pandas.core.frame.DataFrame'>\n",
      "RangeIndex: 10000000 entries, 0 to 9999999\n",
      "Data columns (total 10 columns):\n",
      " #   Column         Dtype  \n",
      "---  ------         -----  \n",
      " 0   Unnamed: 0     int64  \n",
      " 1   event_time     object \n",
      " 2   event_type     object \n",
      " 3   product_id     int64  \n",
      " 4   category_id    int64  \n",
      " 5   category_code  object \n",
      " 6   brand          object \n",
      " 7   price          float64\n",
      " 8   user_id        int64  \n",
      " 9   user_session   object \n",
      "dtypes: float64(1), int64(4), object(5)\n",
      "memory usage: 762.9+ MB\n"
     ]
    }
   ],
   "source": [
    "df.info()"
   ]
  },
  {
   "cell_type": "code",
   "execution_count": 17,
   "metadata": {},
   "outputs": [
    {
     "name": "stdout",
     "output_type": "stream",
     "text": [
      "(10000000, 10)\n"
     ]
    }
   ],
   "source": [
    "print(df.shape)"
   ]
  },
  {
   "cell_type": "code",
   "execution_count": 18,
   "metadata": {},
   "outputs": [
    {
     "name": "stdout",
     "output_type": "stream",
     "text": [
      "Index(['Unnamed: 0', 'event_time', 'event_type', 'product_id', 'category_id',\n",
      "       'category_code', 'brand', 'price', 'user_id', 'user_session'],\n",
      "      dtype='object')\n"
     ]
    }
   ],
   "source": [
    "print(df.columns)"
   ]
  },
  {
   "attachments": {},
   "cell_type": "markdown",
   "metadata": {},
   "source": [
    "T-test"
   ]
  },
  {
   "cell_type": "code",
   "execution_count": 19,
   "metadata": {},
   "outputs": [
    {
     "name": "stdout",
     "output_type": "stream",
     "text": [
      "   Unnamed: 0               event_time event_type  product_id   \n",
      "0           0  2019-11-01 00:00:00 UTC       view     1003461  \\\n",
      "1           1  2019-11-01 00:00:00 UTC       view     5000088   \n",
      "2           2  2019-11-01 00:00:01 UTC       view    17302664   \n",
      "3           3  2019-11-01 00:00:01 UTC       view     3601530   \n",
      "4           4  2019-11-01 00:00:01 UTC       view     1004775   \n",
      "\n",
      "           category_id              category_code   brand   price    user_id   \n",
      "0  2053013555631882655     electronics.smartphone  xiaomi  489.07  520088904  \\\n",
      "1  2053013566100866035  appliances.sewing_machine  janome  293.65  530496790   \n",
      "2  2053013553853497655                        NaN   creed   28.31  561587266   \n",
      "3  2053013563810775923  appliances.kitchen.washer      lg  712.87  518085591   \n",
      "4  2053013555631882655     electronics.smartphone  xiaomi  183.27  558856683   \n",
      "\n",
      "                           user_session  \n",
      "0  4d3b30da-a5e4-49df-b1a8-ba5943f1dd33  \n",
      "1  8e5f4f83-366c-4f70-860e-ca7417414283  \n",
      "2  755422e7-9040-477b-9bd2-6a6e8fd97387  \n",
      "3  3bfb58cd-7892-48cc-8020-2f17e6de6e7f  \n",
      "4  313628f1-68b8-460d-84f6-cec7a8796ef2  \n"
     ]
    }
   ],
   "source": [
    "print(df.head())"
   ]
  },
  {
   "cell_type": "code",
   "execution_count": 20,
   "metadata": {},
   "outputs": [
    {
     "data": {
      "text/html": [
       "<div>\n",
       "<style scoped>\n",
       "    .dataframe tbody tr th:only-of-type {\n",
       "        vertical-align: middle;\n",
       "    }\n",
       "\n",
       "    .dataframe tbody tr th {\n",
       "        vertical-align: top;\n",
       "    }\n",
       "\n",
       "    .dataframe thead th {\n",
       "        text-align: right;\n",
       "    }\n",
       "</style>\n",
       "<table border=\"1\" class=\"dataframe\">\n",
       "  <thead>\n",
       "    <tr style=\"text-align: right;\">\n",
       "      <th></th>\n",
       "      <th>Unnamed: 0</th>\n",
       "      <th>event_time</th>\n",
       "      <th>event_type</th>\n",
       "      <th>product_id</th>\n",
       "      <th>category_id</th>\n",
       "      <th>category_code</th>\n",
       "      <th>brand</th>\n",
       "      <th>price</th>\n",
       "      <th>user_id</th>\n",
       "      <th>user_session</th>\n",
       "    </tr>\n",
       "  </thead>\n",
       "  <tbody>\n",
       "    <tr>\n",
       "      <th>count</th>\n",
       "      <td>1.000000e+07</td>\n",
       "      <td>10000000</td>\n",
       "      <td>10000000</td>\n",
       "      <td>1.000000e+07</td>\n",
       "      <td>1.000000e+07</td>\n",
       "      <td>6697210</td>\n",
       "      <td>8589537</td>\n",
       "      <td>1.000000e+07</td>\n",
       "      <td>1.000000e+07</td>\n",
       "      <td>10000000</td>\n",
       "    </tr>\n",
       "    <tr>\n",
       "      <th>unique</th>\n",
       "      <td>NaN</td>\n",
       "      <td>523423</td>\n",
       "      <td>3</td>\n",
       "      <td>NaN</td>\n",
       "      <td>NaN</td>\n",
       "      <td>126</td>\n",
       "      <td>3373</td>\n",
       "      <td>NaN</td>\n",
       "      <td>NaN</td>\n",
       "      <td>2190461</td>\n",
       "    </tr>\n",
       "    <tr>\n",
       "      <th>top</th>\n",
       "      <td>NaN</td>\n",
       "      <td>2019-11-05 17:23:19 UTC</td>\n",
       "      <td>view</td>\n",
       "      <td>NaN</td>\n",
       "      <td>NaN</td>\n",
       "      <td>electronics.smartphone</td>\n",
       "      <td>samsung</td>\n",
       "      <td>NaN</td>\n",
       "      <td>NaN</td>\n",
       "      <td>4488e77a-9901-4c4b-b162-47a224ceab51</td>\n",
       "    </tr>\n",
       "    <tr>\n",
       "      <th>freq</th>\n",
       "      <td>NaN</td>\n",
       "      <td>113</td>\n",
       "      <td>9731128</td>\n",
       "      <td>NaN</td>\n",
       "      <td>NaN</td>\n",
       "      <td>2543371</td>\n",
       "      <td>1158050</td>\n",
       "      <td>NaN</td>\n",
       "      <td>NaN</td>\n",
       "      <td>504</td>\n",
       "    </tr>\n",
       "    <tr>\n",
       "      <th>mean</th>\n",
       "      <td>5.000000e+06</td>\n",
       "      <td>NaN</td>\n",
       "      <td>NaN</td>\n",
       "      <td>1.100008e+07</td>\n",
       "      <td>2.057828e+18</td>\n",
       "      <td>NaN</td>\n",
       "      <td>NaN</td>\n",
       "      <td>2.925741e+02</td>\n",
       "      <td>5.354292e+08</td>\n",
       "      <td>NaN</td>\n",
       "    </tr>\n",
       "    <tr>\n",
       "      <th>std</th>\n",
       "      <td>2.886751e+06</td>\n",
       "      <td>NaN</td>\n",
       "      <td>NaN</td>\n",
       "      <td>1.228346e+07</td>\n",
       "      <td>1.943274e+16</td>\n",
       "      <td>NaN</td>\n",
       "      <td>NaN</td>\n",
       "      <td>3.538111e+02</td>\n",
       "      <td>2.037214e+07</td>\n",
       "      <td>NaN</td>\n",
       "    </tr>\n",
       "    <tr>\n",
       "      <th>min</th>\n",
       "      <td>0.000000e+00</td>\n",
       "      <td>NaN</td>\n",
       "      <td>NaN</td>\n",
       "      <td>1.000365e+06</td>\n",
       "      <td>2.053014e+18</td>\n",
       "      <td>NaN</td>\n",
       "      <td>NaN</td>\n",
       "      <td>0.000000e+00</td>\n",
       "      <td>1.030022e+07</td>\n",
       "      <td>NaN</td>\n",
       "    </tr>\n",
       "    <tr>\n",
       "      <th>25%</th>\n",
       "      <td>2.500000e+06</td>\n",
       "      <td>NaN</td>\n",
       "      <td>NaN</td>\n",
       "      <td>1.005252e+06</td>\n",
       "      <td>2.053014e+18</td>\n",
       "      <td>NaN</td>\n",
       "      <td>NaN</td>\n",
       "      <td>6.667000e+01</td>\n",
       "      <td>5.159950e+08</td>\n",
       "      <td>NaN</td>\n",
       "    </tr>\n",
       "    <tr>\n",
       "      <th>50%</th>\n",
       "      <td>5.000000e+06</td>\n",
       "      <td>NaN</td>\n",
       "      <td>NaN</td>\n",
       "      <td>5.100722e+06</td>\n",
       "      <td>2.053014e+18</td>\n",
       "      <td>NaN</td>\n",
       "      <td>NaN</td>\n",
       "      <td>1.653100e+02</td>\n",
       "      <td>5.306267e+08</td>\n",
       "      <td>NaN</td>\n",
       "    </tr>\n",
       "    <tr>\n",
       "      <th>75%</th>\n",
       "      <td>7.499999e+06</td>\n",
       "      <td>NaN</td>\n",
       "      <td>NaN</td>\n",
       "      <td>1.640001e+07</td>\n",
       "      <td>2.053014e+18</td>\n",
       "      <td>NaN</td>\n",
       "      <td>NaN</td>\n",
       "      <td>3.654600e+02</td>\n",
       "      <td>5.548916e+08</td>\n",
       "      <td>NaN</td>\n",
       "    </tr>\n",
       "    <tr>\n",
       "      <th>max</th>\n",
       "      <td>9.999999e+06</td>\n",
       "      <td>NaN</td>\n",
       "      <td>NaN</td>\n",
       "      <td>6.210003e+07</td>\n",
       "      <td>2.180737e+18</td>\n",
       "      <td>NaN</td>\n",
       "      <td>NaN</td>\n",
       "      <td>2.574070e+03</td>\n",
       "      <td>5.684226e+08</td>\n",
       "      <td>NaN</td>\n",
       "    </tr>\n",
       "  </tbody>\n",
       "</table>\n",
       "</div>"
      ],
      "text/plain": [
       "          Unnamed: 0               event_time event_type    product_id   \n",
       "count   1.000000e+07                 10000000   10000000  1.000000e+07  \\\n",
       "unique           NaN                   523423          3           NaN   \n",
       "top              NaN  2019-11-05 17:23:19 UTC       view           NaN   \n",
       "freq             NaN                      113    9731128           NaN   \n",
       "mean    5.000000e+06                      NaN        NaN  1.100008e+07   \n",
       "std     2.886751e+06                      NaN        NaN  1.228346e+07   \n",
       "min     0.000000e+00                      NaN        NaN  1.000365e+06   \n",
       "25%     2.500000e+06                      NaN        NaN  1.005252e+06   \n",
       "50%     5.000000e+06                      NaN        NaN  5.100722e+06   \n",
       "75%     7.499999e+06                      NaN        NaN  1.640001e+07   \n",
       "max     9.999999e+06                      NaN        NaN  6.210003e+07   \n",
       "\n",
       "         category_id           category_code    brand         price   \n",
       "count   1.000000e+07                 6697210  8589537  1.000000e+07  \\\n",
       "unique           NaN                     126     3373           NaN   \n",
       "top              NaN  electronics.smartphone  samsung           NaN   \n",
       "freq             NaN                 2543371  1158050           NaN   \n",
       "mean    2.057828e+18                     NaN      NaN  2.925741e+02   \n",
       "std     1.943274e+16                     NaN      NaN  3.538111e+02   \n",
       "min     2.053014e+18                     NaN      NaN  0.000000e+00   \n",
       "25%     2.053014e+18                     NaN      NaN  6.667000e+01   \n",
       "50%     2.053014e+18                     NaN      NaN  1.653100e+02   \n",
       "75%     2.053014e+18                     NaN      NaN  3.654600e+02   \n",
       "max     2.180737e+18                     NaN      NaN  2.574070e+03   \n",
       "\n",
       "             user_id                          user_session  \n",
       "count   1.000000e+07                              10000000  \n",
       "unique           NaN                               2190461  \n",
       "top              NaN  4488e77a-9901-4c4b-b162-47a224ceab51  \n",
       "freq             NaN                                   504  \n",
       "mean    5.354292e+08                                   NaN  \n",
       "std     2.037214e+07                                   NaN  \n",
       "min     1.030022e+07                                   NaN  \n",
       "25%     5.159950e+08                                   NaN  \n",
       "50%     5.306267e+08                                   NaN  \n",
       "75%     5.548916e+08                                   NaN  \n",
       "max     5.684226e+08                                   NaN  "
      ]
     },
     "execution_count": 20,
     "metadata": {},
     "output_type": "execute_result"
    }
   ],
   "source": [
    "df.describe(include='all')"
   ]
  },
  {
   "cell_type": "code",
   "execution_count": 21,
   "metadata": {},
   "outputs": [
    {
     "data": {
      "text/plain": [
       "category_code    3302790\n",
       "brand            1410463\n",
       "Unnamed: 0             0\n",
       "event_time             0\n",
       "event_type             0\n",
       "product_id             0\n",
       "category_id            0\n",
       "price                  0\n",
       "user_id                0\n",
       "user_session           0\n",
       "dtype: int64"
      ]
     },
     "execution_count": 21,
     "metadata": {},
     "output_type": "execute_result"
    }
   ],
   "source": [
    "df.isnull().sum().sort_values(ascending=False)"
   ]
  },
  {
   "cell_type": "code",
   "execution_count": 26,
   "metadata": {},
   "outputs": [
    {
     "name": "stdout",
     "output_type": "stream",
     "text": [
      "根据假设检验结果，在消费方面，三星和苹果没有显著差异（p >= 0.05）\n",
      "p-value: nan\n"
     ]
    }
   ],
   "source": [
    "samsung_data = df[df[\"brand\"] == \"Samsung\"][\"price\"]\n",
    "apple_data = df[df[\"brand\"] == \"Apple\"][\"price\"]\n",
    "statistic, p_value = stats.ttest_ind(samsung_data, apple_data)\n",
    "if p_value < 0.05:\n",
    "    print(\"根据假设检验结果，在消费方面，三星高于苹果（p < 0.05）\")\n",
    "else:\n",
    "    print(\"根据假设检验结果，在消费方面，三星和苹果没有显著差异（p >= 0.05）\")\n",
    "print(\"p-value:\", p_value)"
   ]
  },
  {
   "cell_type": "code",
   "execution_count": 27,
   "metadata": {},
   "outputs": [
    {
     "name": "stdout",
     "output_type": "stream",
     "text": [
      "p-value: nan\n"
     ]
    },
    {
     "ename": "",
     "evalue": "",
     "output_type": "error",
     "traceback": [
      "\u001b[1;31mThe Kernel crashed while executing code in the the current cell or a previous cell. Please review the code in the cell(s) to identify a possible cause of the failure. Click <a href='https://aka.ms/vscodeJupyterKernelCrash'>here</a> for more info. View Jupyter <a href='command:jupyter.viewOutput'>log</a> for further details."
     ]
    }
   ],
   "source": [
    "samsung_data = df[df[\"brand\"] == \"Samsung\"][\"price\"]\n",
    "apple_data = df[df[\"brand\"] == \"Apple\"][\"price\"]\n",
    "samsung_data = samsung_data.dropna()\n",
    "apple_data = apple_data.dropna()\n",
    "samsung_data = samsung_data[(np.abs(stats.zscore(samsung_data)) < 3)]\n",
    "apple_data = apple_data[(np.abs(stats.zscore(apple_data)) < 3)]\n",
    "statistic, p_value = stats.ttest_ind(samsung_data, apple_data)\n",
    "print(\"p-value:\", p_value)"
   ]
  }
 ],
 "metadata": {
  "kernelspec": {
   "display_name": "Python 3",
   "language": "python",
   "name": "python3"
  },
  "language_info": {
   "codemirror_mode": {
    "name": "ipython",
    "version": 3
   },
   "file_extension": ".py",
   "mimetype": "text/x-python",
   "name": "python",
   "nbconvert_exporter": "python",
   "pygments_lexer": "ipython3",
   "version": "3.9.6"
  },
  "orig_nbformat": 4
 },
 "nbformat": 4,
 "nbformat_minor": 2
}
